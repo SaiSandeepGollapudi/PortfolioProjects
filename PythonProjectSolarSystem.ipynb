{
 "cells": [
  {
   "cell_type": "markdown",
   "metadata": {},
   "source": [
    "# Sai Sandeep Gollapudi\n",
    "# BIS 628\n"
   ]
  },
  {
   "cell_type": "code",
   "execution_count": 37,
   "metadata": {},
   "outputs": [],
   "source": [
    "\n",
    "#In this progam we are going to create classes for planets and their types and thier attributes.\n",
    "#We will also create create subclasses for the planets and their attributes.\n",
    "#the classess will be feeded data from a dataframe 'df'\n"
   ]
  },
  {
   "cell_type": "code",
   "execution_count": 38,
   "metadata": {},
   "outputs": [],
   "source": [
    "# Defining The Program Objectives\n",
    "# Objective 1 : create a class for planets.\n",
    "# Objective 2 : create functions for planets.\n",
    "# Objective 3 : Instantiate the classes by passing a dataframe to the class.\n",
    "# Objective 4 : print out the results as Required."
   ]
  },
  {
   "cell_type": "code",
   "execution_count": 51,
   "metadata": {},
   "outputs": [],
   "source": [
    "# creating a class for planets\n",
    "class Planet:\n",
    "    name = None\n",
    "    type = None\n",
    "    mass = 0\n",
    "    distance = 0\n",
    "    def __init__(self,name : str , type : str , mass : float , distance : int):\n",
    "        self.name = name\n",
    "        self.type = type\n",
    "        self.mass = mass\n",
    "        self.distance = distance \n",
    "    def __str__(self):\n",
    "        return f\"Planet Name : {self.name} Planet Type : {self.type} Planet Mass : {self.mass} Planet Distance From the SUN : {self.distance} \"\n",
    "\n",
    "      "
   ]
  },
  {
   "cell_type": "code",
   "execution_count": 52,
   "metadata": {},
   "outputs": [],
   "source": [
    "# The next class is \"Terrestrial\"\n",
    "class Terrestrial(Planet):\n",
    "    low_surface_temperature = None\n",
    "    high_surface_temperature = None\n",
    "    def __init__(self,name : str , type : str , mass : float , distance : int , low_surface_temperature : float , high_surface_temperature : float):\n",
    "        super().__init__(name, type, mass, distance)\n",
    "        self.name = name\n",
    "        self.type = type\n",
    "        self.mass = mass\n",
    "        self.distance = distance\n",
    "        self.low_surface_temperature = low_surface_temperature\n",
    "        self.high_surface_temperature = high_surface_temperature\n",
    "    def __str__(self):\n",
    "        return f\"Planet Name : {self.name} Planet Type : {self.type} Planet Mass : {self.mass} Planet Distance From the SUN : {self.distance} Low Surface Temperature : {self.low_surface_temperature} High Surface Temperature : {self.high_surface_temperature} \""
   ]
  },
  {
   "cell_type": "code",
   "execution_count": 53,
   "metadata": {},
   "outputs": [],
   "source": [
    "# Our last class is going to be \"Jovian\"\n",
    "class Jovian(Planet):\n",
    "    temperature_above_clouds = None\n",
    "    def __init__(self,name : str , type : str , mass : float , distance : int , temperature_above_clouds : float ):\n",
    "        super().__init__(name, type, mass, distance)\n",
    "        self.name = name\n",
    "        self.type = type\n",
    "        self.mass = mass\n",
    "        self.distance = distance \n",
    "        self.temperature_above_clouds = temperature_above_clouds\n",
    "    def __str__(self):\n",
    "        return f\"Planet Name : {self.name} Planet Type : {self.type} Planet Mass : {self.mass} Planet Distance From the SUN : {self.distance} Temperature Above Clouds : {self.temperature_above_clouds} \""
   ]
  },
  {
   "cell_type": "code",
   "execution_count": 54,
   "metadata": {},
   "outputs": [],
   "source": [
    "  #Now that we have classes, we are going to create additional helper functions\n",
    "    #that will be used in the main program.\n",
    "# we will create a function to load dataset from a txt file\n",
    "# file name will provided by the user\n",
    "# creating user input to get file file_name\n",
    "# file_name = input(\"Please Enter the File Name : \")\n",
    "def load_data():\n",
    "    # Creating try and except block to handle the error\n",
    "    try:\n",
    "        # getting the file name from user input\n",
    "        file_name = input(\"Please Enter the File Name : \")\n",
    "        # loading the data from the txt file\n",
    "        data_file = file_name + \".txt\"\n",
    "        # loading the data from the txt file\n",
    "        df = pd.read_csv(data_file, sep = \"\\t\")\n",
    "        return df\n",
    "    except FileNotFoundError:\n",
    "        print(\"File Not Found. Please Provide a valid file name ! !\")\n"
   ]
  },
  {
   "cell_type": "code",
   "execution_count": 56,
   "metadata": {},
   "outputs": [],
   "source": [
    "#   we need to sort the dataframe by distance From the sun.\n",
    "  #  we will use the sort_values function to sort the dataframe\n",
    "# we create a function to sort the data by distance \n",
    "def sort_data(df):\n",
    "    # we sort the data by distance from the sun\n",
    "    df=df.to_dict('records')\n",
    "    df.sort(key=itemgetter('distance'))\n",
    "    df = pd.DataFrame.from_dict(df)\n",
    "    return df"
   ]
  },
  {
   "cell_type": "code",
   "execution_count": 57,
   "metadata": {},
   "outputs": [],
   "source": [
    "#We are going to create another function to create Planet Objects\"\"\"\n",
    "# we create a function to create Planet Objects\n",
    "def create_planets(df):\n",
    "    # we create a list to hold the Planet Objects\n",
    "    df = df.to_dict('records')\n",
    "    planets = []\n",
    "    for i in df:\n",
    "        if i['type'] == 'Terrestrial':\n",
    "            planets.append(Terrestrial(i['name'],i['type'],i['mass'],i['distance'],i['lowSurfaceTemperature'],i['HighSurfaceTemperature']))\n",
    "        else:\n",
    "            planets.append(Jovian(i['name'],i['type'],i['mass'],i['distance'],i['TempAboveClouds']))\n",
    "    return planets"
   ]
  },
  {
   "cell_type": "code",
   "execution_count": 58,
   "metadata": {},
   "outputs": [],
   "source": [
    "# Another Function is the function to print the planets and their attributes\n",
    "def print_planets_properties(planets):\n",
    "    for i in range(len(planets)):\n",
    "        print(\"Planet name : \"+planets[i].name + \" \\n\" +\"Planet type : \"+ planets[i].type + \" \\n\" +\"Distance from sun (AU) : \" +str(round(planets[i].distance,2)) + \" \\n\" + \"Mass (Kg) :\" + str(planets[i].mass))\n",
    "        if planets[i].type == 'Terrestrial':\n",
    "            print(\"The low surface temperature is \" + str(planets[i].low_surface_temperature) + \" and the high surface temperature is \" + str(planets[i].high_surface_temperature))\n",
    "        else:\n",
    "            print(\"The temperature above clouds top (degrees) : \" + str(planets[i].temperature_above_clouds))\n",
    "        print(\"\\n\")"
   ]
  },
  {
   "cell_type": "code",
   "execution_count": 59,
   "metadata": {},
   "outputs": [],
   "source": [
    "#The last function we  are going to create is the function to print Distance of the planet from the sun in milions miles\"\"\"\n",
    "# distance from the sun function\n",
    "def distance_from_sun(planets):\n",
    "        for i in range(len(planets)):\n",
    "            print(f\"{planets[i].name} is {round((planets[i].distance)*93,2)} million miles from the Sun.\")"
   ]
  },
  {
   "cell_type": "code",
   "execution_count": 60,
   "metadata": {},
   "outputs": [
    {
     "name": "stdout",
     "output_type": "stream",
     "text": [
      "Please Enter the File Name : planetdata\n",
      "Planet name : Mercury \n",
      "Planet type : Terrestrial \n",
      "Distance from sun (AU) : 0.39 \n",
      "Mass (Kg) :3.31e+23\n",
      "The low surface temperature is -173 and the high surface temperature is 430\n",
      "\n",
      "\n",
      "Planet name : Venus \n",
      "Planet type : Terrestrial \n",
      "Distance from sun (AU) : 0.72 \n",
      "Mass (Kg) :4.87e+24\n",
      "The low surface temperature is 472 and the high surface temperature is 472\n",
      "\n",
      "\n",
      "Planet name : Earth \n",
      "Planet type : Terrestrial \n",
      "Distance from sun (AU) : 1.0 \n",
      "Mass (Kg) :5.97e+24\n",
      "The low surface temperature is -50 and the high surface temperature is 50\n",
      "\n",
      "\n",
      "Planet name : Mars \n",
      "Planet type : Terrestrial \n",
      "Distance from sun (AU) : 1.52 \n",
      "Mass (Kg) :6.42e+23\n",
      "The low surface temperature is -140 and the high surface temperature is 20\n",
      "\n",
      "\n",
      "Planet name : Jupiter \n",
      "Planet type : Jovian \n",
      "Distance from sun (AU) : 5.2 \n",
      "Mass (Kg) :1.9e+27\n",
      "The temperature above clouds top (degrees) : -110\n",
      "\n",
      "\n",
      "Planet name : Saturn \n",
      "Planet type : Jovian \n",
      "Distance from sun (AU) : 9.54 \n",
      "Mass (Kg) :5.69e+26\n",
      "The temperature above clouds top (degrees) : -180\n",
      "\n",
      "\n",
      "Planet name : Uranus \n",
      "Planet type : Jovian \n",
      "Distance from sun (AU) : 19.18 \n",
      "Mass (Kg) :8.689999999999999e+25\n",
      "The temperature above clouds top (degrees) : -220\n",
      "\n",
      "\n",
      "Planet name : Neptune \n",
      "Planet type : Jovian \n",
      "Distance from sun (AU) : 30.06 \n",
      "Mass (Kg) :1.03e+26\n",
      "The temperature above clouds top (degrees) : -216\n",
      "\n",
      "\n",
      "Planet name : Pluto \n",
      "Planet type : Terrestrial \n",
      "Distance from sun (AU) : 39.44 \n",
      "Mass (Kg) :1.2e+22\n",
      "The low surface temperature is -230 and the high surface temperature is -230\n",
      "\n",
      "\n",
      "\n",
      "\n",
      "\n",
      "\n",
      "Mercury is 35.99 million miles from the Sun.\n",
      "Venus is 67.27 million miles from the Sun.\n",
      "Earth is 93.0 million miles from the Sun.\n",
      "Mars is 141.7 million miles from the Sun.\n",
      "Jupiter is 483.86 million miles from the Sun.\n",
      "Saturn is 887.11 million miles from the Sun.\n",
      "Uranus is 1783.74 million miles from the Sun.\n",
      "Neptune is 2795.68 million miles from the Sun.\n",
      "Pluto is 3667.92 million miles from the Sun.\n"
     ]
    }
   ],
   "source": [
    "# Main Function\n",
    "# first we load the data\n",
    "df =  load_data()\n",
    "# then we sort the data\n",
    "df = sort_data(df)\n",
    "# then we create the planets\n",
    "planets = create_planets(df)\n",
    "# then we print the planets\n",
    "print_planets_properties(planets)\n",
    "print(\"\\n\\n\\n\")\n",
    "# then we print the distance from the sun\n",
    "distance_from_sun(planets)"
   ]
  },
  {
   "cell_type": "code",
   "execution_count": null,
   "metadata": {},
   "outputs": [],
   "source": []
  }
 ],
 "metadata": {
  "interpreter": {
   "hash": "ab240f358ef4acc6319831bed908fd22b99c99f814ff89abfd49051bc50c841f"
  },
  "kernelspec": {
   "display_name": "Python 3 (ipykernel)",
   "language": "python",
   "name": "python3"
  },
  "language_info": {
   "codemirror_mode": {
    "name": "ipython",
    "version": 3
   },
   "file_extension": ".py",
   "mimetype": "text/x-python",
   "name": "python",
   "nbconvert_exporter": "python",
   "pygments_lexer": "ipython3",
   "version": "3.9.7"
  }
 },
 "nbformat": 4,
 "nbformat_minor": 2
}
